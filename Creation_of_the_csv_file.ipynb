{
 "cells": [
  {
   "cell_type": "code",
   "execution_count": 1,
   "id": "4574466f-a9d1-49f5-9957-dbd453a3c017",
   "metadata": {},
   "outputs": [],
   "source": [
    "import pandas as pd\n",
    "import csv\n",
    "import re "
   ]
  },
  {
   "cell_type": "markdown",
   "id": "e5f7cc63-0482-4517-9f44-4f483a7cf1dd",
   "metadata": {},
   "source": [
    "# Creating the CSV"
   ]
  },
  {
   "cell_type": "code",
   "execution_count": 7,
   "id": "de8f5814-f0a4-4c27-9e2a-9ca53a3f7b00",
   "metadata": {},
   "outputs": [
    {
     "name": "stdout",
     "output_type": "stream",
     "text": [
      "CSV file 'BOOKS_DATA_updated.csv' created successfully with 930 rows.\n"
     ]
    }
   ],
   "source": [
    "import os\n",
    "# Path to the folder containing the text files\n",
    "folder_path = r'C:\\Users\\User\\Desktop\\Business_Analytics\\ML_Content_Analysis\\PROJECT\\gutenberg_books'\n",
    "\n",
    "# Name of the CSV file to be created\n",
    "csv_filename = \"BOOKS_DATA_updated.csv\"\n",
    "\n",
    "# Create and write the header to the CSV file\n",
    "with open(csv_filename, mode='w', newline='', encoding='utf-8') as file:\n",
    "    writer = csv.writer(file)\n",
    "    writer.writerow([\"Title\", \"Author\", \"Language\", \"Year\",\"Text\"])\n",
    "\n",
    "row_count = 0\n",
    "# Iterate over all text files in the folder\n",
    "for filename in os.listdir(folder_path):\n",
    "    if filename.endswith(\".txt.utf-8\"):  # Using the correct file extension\n",
    "        file_path = os.path.join(folder_path, filename)\n",
    "\n",
    "        # Initialize variables\n",
    "        title = \"Unknown Title\"\n",
    "        author = \"Unknown Author\"\n",
    "        language = \"Unknown Language\"\n",
    "        year = \"Unknown Year\"\n",
    "        book_text = []\n",
    "        in_gutenberg_text = False\n",
    "\n",
    "        with open(file_path, 'r', encoding='utf-8') as f:\n",
    "            for line in f:\n",
    "                if line.startswith(\"Title:\"):\n",
    "                    title = line.replace(\"Title:\", \"\").strip()\n",
    "                elif line.startswith(\"Author:\"):\n",
    "                    author = line.replace(\"Author:\", \"\").strip()\n",
    "                elif line.startswith(\"Language:\"):\n",
    "                    language = line.replace(\"Language:\", \"\").strip()\n",
    "                elif line.startswith(\"Release Date:\") or line.startswith(\"Release date:\"):\n",
    "                    # Extract the year using regex\n",
    "                    match = re.search(r'(\\d{4})', line)\n",
    "                    if match:\n",
    "                        year = match.group(1)  # Extract only the year part \n",
    "                elif \"*** START OF THE PROJECT GUTENBERG\" in line:\n",
    "                    in_gutenberg_text = True  # Start capturing the text\n",
    "                elif \"*** END OF THE PROJECT GUTENBERG\" in line:\n",
    "                    in_gutenberg_text = False  # Stop capturing the text\n",
    "                    break\n",
    "                elif in_gutenberg_text:\n",
    "                    # Append the cleaned line to the list (remove newlines)\n",
    "                    book_text.append(line.strip())  # Remove leading/trailing spaces/newlines\n",
    "\n",
    "        # Combine the book text lines into a single string and remove all newlines\n",
    "        book_text = \" \".join(book_text).strip()  # Join with a space and remove any excess spaces\n",
    "\n",
    "        # Write the data to the CSV file incrementally\n",
    "        with open(csv_filename, mode='a', newline='', encoding='utf-8') as file:\n",
    "            writer = csv.writer(file)\n",
    "            writer.writerow([title, author, language, year, book_text])\n",
    "            # Increment the row count\n",
    "        row_count += 1\n",
    "\n",
    "print(f\"CSV file '{csv_filename}' created successfully with {row_count} rows.\")"
   ]
  }
 ],
 "metadata": {
  "kernelspec": {
   "display_name": "Python 3 (ipykernel)",
   "language": "python",
   "name": "python3"
  },
  "language_info": {
   "codemirror_mode": {
    "name": "ipython",
    "version": 3
   },
   "file_extension": ".py",
   "mimetype": "text/x-python",
   "name": "python",
   "nbconvert_exporter": "python",
   "pygments_lexer": "ipython3",
   "version": "3.12.1"
  }
 },
 "nbformat": 4,
 "nbformat_minor": 5
}
